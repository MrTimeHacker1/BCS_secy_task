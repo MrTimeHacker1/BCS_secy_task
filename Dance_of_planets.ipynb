{
  "cells": [
    {
      "cell_type": "markdown",
      "source": [
        "# Data Generation\n",
        "\n",
        "The below code generates the required data and saves as an CSV file, it first generates the random values [m1, m2, x1, y1, x2, y2, vx1, vy1, vx2, vy2, t] and uses the solve_ivp module from scipy library to give the corresponding output [x1(t), y1(t), x2(t), y2(t)]"
      ],
      "metadata": {
        "id": "TSWt6KKQjKKS"
      }
    },
    {
      "cell_type": "code",
      "execution_count": null,
      "metadata": {
        "id": "da8DTFcTJupW"
      },
      "outputs": [],
      "source": [
        "import pandas as pd\n",
        "import numpy as np\n",
        "from sklearn.model_selection import train_test_split\n",
        "from sklearn.preprocessing import MinMaxScaler\n",
        "import tensorflow as tf\n",
        "from tensorflow.keras.models import Sequential\n",
        "from tensorflow.keras.layers import Dense\n",
        "from scipy.integrate import solve_ivp\n",
        "import matplotlib.pyplot as plt\n",
        "\n",
        "# seed\n",
        "np.random.seed(42)\n",
        "\n",
        "# Number of samples\n",
        "N = 3000\n",
        "\n",
        "# Parameter ranges\n",
        "mass_range = (1, 50)      # (exclusive, inclusive]\n",
        "pos_vel_range = (-100, 100) # for x, y, vx, vy\n",
        "t_range = (1, 200)        # [1, 200]\n",
        "G = 1  # Gravitational constant\n",
        "\n",
        "# Differential Equation setup\n",
        "def ode(t, y, m1, m2):\n",
        "   x1, y1, x2, y2, vx1, vy1, vx2, vy2 = y\n",
        "   dx = x2 - x1\n",
        "   dy = y2 - y1\n",
        "   dist3 = (dx**2 + dy**2)**1.5 + 1e-8  # add epsilon to avoid zero division\n",
        "   ax1 = G * m2 * dx / dist3\n",
        "   ay1 = G * m2 * dy / dist3\n",
        "   ax2 = -G * m1 * dx / dist3\n",
        "   ay2 = -G * m1 * dy / dist3\n",
        "   return [vx1, vy1, vx2, vy2, ax1, ay1, ax2, ay2]\n",
        "\n",
        "data = []\n",
        "for _ in range(N):\n",
        "   m1 = np.random.uniform(*mass_range)\n",
        "   m2 = np.random.uniform(*mass_range)\n",
        "   x1, y1 = np.random.uniform(*pos_vel_range, 2)\n",
        "   x2, y2 = np.random.uniform(*pos_vel_range, 2)\n",
        "   vx1, vy1 = np.random.uniform(*pos_vel_range, 2)\n",
        "   vx2, vy2 = np.random.uniform(*pos_vel_range, 2)\n",
        "   t = np.random.uniform(*t_range)\n",
        "\n",
        "   y0 = [x1, y1, x2, y2, vx1, vy1, vx2, vy2]\n",
        "   sol = solve_ivp(\n",
        "      ode,\n",
        "      [0, t],\n",
        "      y0,\n",
        "      args=(m1, m2),\n",
        "      t_eval=[t],\n",
        "      rtol=1e-8,\n",
        "      atol=1e-8\n",
        "   )\n",
        "   if not sol.success:\n",
        "      continue\n",
        "   xf = sol.y[:, -1]\n",
        "   # Input: [m1, m2, x1, y1, x2, y2, vx1, vy1, vx2, vy2, t]\n",
        "   # Output: [x1(t), y1(t), x2(t), y2(t)]\n",
        "   row = [\n",
        "      m1, m2, x1, y1, x2, y2, vx1, vy1, vx2, vy2, t,\n",
        "      xf[0], xf[1], xf[2], xf[3]\n",
        "   ]\n",
        "   data.append(row)\n",
        "\n",
        "columns = [\n",
        "   'm1', 'm2', 'x1', 'y1', 'x2', 'y2', 'vx1', 'vy1', 'vx2', 'vy2', 't',\n",
        "   'x1_t', 'y1_t', 'x2_t', 'y2_t'\n",
        "]\n",
        "df = pd.DataFrame(data, columns=columns)\n",
        "df.to_csv('two_body_data.csv', index=False)\n",
        "print(\"Saved generated data to CSV\")"
      ]
    },
    {
      "cell_type": "markdown",
      "source": [
        "# Spliting and Normalizing the data\n",
        "\n",
        "This cell loads the previously generated data and splits it into 80:20 for training:testing. Further the training data is min_max normalized for smooth training."
      ],
      "metadata": {
        "id": "fz1hPbe5l8_x"
      }
    },
    {
      "cell_type": "code",
      "execution_count": null,
      "metadata": {
        "id": "KF8kNZnyLegC"
      },
      "outputs": [],
      "source": [
        "# Load data\n",
        "df = pd.read_csv('two_body_data.csv')\n",
        "\n",
        "# Split inputs and outputs\n",
        "X = df.loc[:, ['m1', 'm2', 'x1', 'y1', 'x2', 'y2', 'vx1', 'vy1', 'vx2', 'vy2', 't']].values\n",
        "Y = df.loc[:, ['x1_t', 'y1_t', 'x2_t', 'y2_t']].values\n",
        "\n",
        "# Split into train (80%) and test (20%)\n",
        "X_train, X_test, Y_train, Y_test = train_test_split(\n",
        "   X, Y, test_size=0.2, random_state=42  # consistent split\n",
        ")\n",
        "\n",
        "# Normalize inputs and outputs (fit only on train)\n",
        "input_scaler = MinMaxScaler()\n",
        "output_scaler = MinMaxScaler()\n",
        "\n",
        "X_train_scaled = input_scaler.fit_transform(X_train)\n",
        "X_test_scaled = input_scaler.transform(X_test)\n",
        "\n",
        "Y_train_scaled = output_scaler.fit_transform(Y_train)\n",
        "Y_test_scaled = output_scaler.transform(Y_test)\n",
        "\n",
        "#print(X_train_scaled[:5])  # quick look at normalized inputs"
      ]
    },
    {
      "cell_type": "markdown",
      "source": [
        "# Model Architecture\n",
        "\n",
        "*   Input layer: 11 inputs\n",
        "*   1st Fully connected layer: 128 neurons, activation function: tanh\n",
        "*   2nd Fully connected layer: 128 neurons, activation function: tanh\n",
        "*   3rd Fully connected layer: 128 neurons, activation function: tanh\n",
        "*   Output layer: 4 outputs\n",
        "\n"
      ],
      "metadata": {
        "id": "oMZjtlaYka3C"
      }
    },
    {
      "cell_type": "code",
      "execution_count": null,
      "metadata": {
        "colab": {
          "base_uri": "https://localhost:8080/"
        },
        "id": "M9bEZnXaLfX2",
        "outputId": "0b11e20e-d998-4058-c389-4c774120994c"
      },
      "outputs": [
        {
          "name": "stderr",
          "output_type": "stream",
          "text": [
            "/usr/local/lib/python3.11/dist-packages/keras/src/layers/core/dense.py:87: UserWarning: Do not pass an `input_shape`/`input_dim` argument to a layer. When using Sequential models, prefer using an `Input(shape)` object as the first layer in the model instead.\n",
            "  super().__init__(activity_regularizer=activity_regularizer, **kwargs)\n"
          ]
        }
      ],
      "source": [
        "# Define the model\n",
        "model = Sequential([\n",
        "   Dense(128, activation='tanh', input_shape=(11,)),\n",
        "   Dense(128, activation='tanh'),\n",
        "   Dense(128, activation='tanh'),\n",
        "   Dense(4)  # Output: [x1_t, y1_t, x2_t, y2_t]\n",
        "])\n",
        "\n",
        "model.compile(optimizer='adam', loss='mse')\n",
        "\n",
        "# Trying a basic MLP, might need to tune layer sizes"
      ]
    },
    {
      "cell_type": "markdown",
      "source": [
        "# Model Training\n",
        "This cell trains our neural network to predict the final positions of two gravitational bodies. We use a custom callback to monitor the training progress by calculating the percentage Mean Squared Error (MSE) at each epoch.\n",
        "\n",
        "The percentage MSE is calculated by dividing the raw MSE by the variance of the training outputs and multiplying by 100. This gives us a normalized measure of error that's easier to interpret - it tells us what percentage of the output variance our model fails to explain.\n",
        "\n",
        "Lower percentage MSE values indicate better model performance, with 0% representing a perfect prediction. The training runs for 100 epochs with a batch size of 32."
      ],
      "metadata": {
        "id": "9T0j7Xkvl3-l"
      }
    },
    {
      "cell_type": "markdown",
      "source": [],
      "metadata": {
        "id": "FWoG5khmlHV7"
      }
    },
    {
      "cell_type": "code",
      "execution_count": null,
      "metadata": {
        "colab": {
          "base_uri": "https://localhost:8080/"
        },
        "id": "Mxs2UZXBLhlp",
        "outputId": "3636d1e8-93a4-4897-e8f5-0a516e4cfec6"
      },
      "outputs": [
        {
          "name": "stdout",
          "output_type": "stream",
          "text": [
            "Epoch 1: Percentage MSE = 65.09%\n",
            "Epoch 2: Percentage MSE = 27.13%\n",
            "Epoch 3: Percentage MSE = 26.18%\n",
            "Epoch 4: Percentage MSE = 25.43%\n",
            "Epoch 5: Percentage MSE = 23.19%\n",
            "Epoch 6: Percentage MSE = 21.01%\n",
            "Epoch 7: Percentage MSE = 16.76%\n",
            "Epoch 8: Percentage MSE = 11.83%\n",
            "Epoch 9: Percentage MSE = 8.49%\n",
            "Epoch 10: Percentage MSE = 7.51%\n",
            "Epoch 11: Percentage MSE = 6.19%\n",
            "Epoch 12: Percentage MSE = 5.60%\n",
            "Epoch 13: Percentage MSE = 5.19%\n",
            "Epoch 14: Percentage MSE = 4.75%\n",
            "Epoch 15: Percentage MSE = 4.34%\n",
            "Epoch 16: Percentage MSE = 3.57%\n",
            "Epoch 17: Percentage MSE = 3.41%\n",
            "Epoch 18: Percentage MSE = 2.86%\n",
            "Epoch 19: Percentage MSE = 2.28%\n",
            "Epoch 20: Percentage MSE = 1.94%\n",
            "Epoch 21: Percentage MSE = 1.51%\n",
            "Epoch 22: Percentage MSE = 1.24%\n",
            "Epoch 23: Percentage MSE = 1.00%\n",
            "Epoch 24: Percentage MSE = 0.77%\n",
            "Epoch 25: Percentage MSE = 0.60%\n",
            "Epoch 26: Percentage MSE = 0.53%\n",
            "Epoch 27: Percentage MSE = 0.50%\n",
            "Epoch 28: Percentage MSE = 0.42%\n",
            "Epoch 29: Percentage MSE = 0.39%\n",
            "Epoch 30: Percentage MSE = 0.34%\n",
            "Epoch 31: Percentage MSE = 0.35%\n",
            "Epoch 32: Percentage MSE = 0.30%\n",
            "Epoch 33: Percentage MSE = 0.31%\n",
            "Epoch 34: Percentage MSE = 0.30%\n",
            "Epoch 35: Percentage MSE = 0.29%\n",
            "Epoch 36: Percentage MSE = 0.38%\n",
            "Epoch 37: Percentage MSE = 0.36%\n",
            "Epoch 38: Percentage MSE = 0.33%\n",
            "Epoch 39: Percentage MSE = 0.34%\n",
            "Epoch 40: Percentage MSE = 0.31%\n",
            "Epoch 41: Percentage MSE = 0.24%\n",
            "Epoch 42: Percentage MSE = 0.27%\n",
            "Epoch 43: Percentage MSE = 0.30%\n",
            "Epoch 44: Percentage MSE = 0.29%\n",
            "Epoch 45: Percentage MSE = 0.37%\n",
            "Epoch 46: Percentage MSE = 0.26%\n",
            "Epoch 47: Percentage MSE = 0.31%\n",
            "Epoch 48: Percentage MSE = 0.38%\n",
            "Epoch 49: Percentage MSE = 0.33%\n",
            "Epoch 50: Percentage MSE = 0.35%\n",
            "Epoch 51: Percentage MSE = 0.36%\n",
            "Epoch 52: Percentage MSE = 0.27%\n",
            "Epoch 53: Percentage MSE = 0.26%\n",
            "Epoch 54: Percentage MSE = 0.31%\n",
            "Epoch 55: Percentage MSE = 0.34%\n",
            "Epoch 56: Percentage MSE = 0.27%\n",
            "Epoch 57: Percentage MSE = 0.35%\n",
            "Epoch 58: Percentage MSE = 0.27%\n",
            "Epoch 59: Percentage MSE = 0.27%\n",
            "Epoch 60: Percentage MSE = 0.35%\n",
            "Epoch 61: Percentage MSE = 0.27%\n",
            "Epoch 62: Percentage MSE = 0.32%\n",
            "Epoch 63: Percentage MSE = 0.43%\n",
            "Epoch 64: Percentage MSE = 0.41%\n",
            "Epoch 65: Percentage MSE = 0.32%\n",
            "Epoch 66: Percentage MSE = 0.61%\n",
            "Epoch 67: Percentage MSE = 0.37%\n",
            "Epoch 68: Percentage MSE = 0.30%\n",
            "Epoch 69: Percentage MSE = 0.37%\n",
            "Epoch 70: Percentage MSE = 0.29%\n",
            "Epoch 71: Percentage MSE = 0.44%\n",
            "Epoch 72: Percentage MSE = 0.25%\n",
            "Epoch 73: Percentage MSE = 0.26%\n",
            "Epoch 74: Percentage MSE = 0.34%\n",
            "Epoch 75: Percentage MSE = 0.42%\n",
            "Epoch 76: Percentage MSE = 0.33%\n",
            "Epoch 77: Percentage MSE = 0.30%\n",
            "Epoch 78: Percentage MSE = 0.25%\n",
            "Epoch 79: Percentage MSE = 0.44%\n",
            "Epoch 80: Percentage MSE = 0.34%\n",
            "Epoch 81: Percentage MSE = 0.29%\n",
            "Epoch 82: Percentage MSE = 0.31%\n",
            "Epoch 83: Percentage MSE = 0.39%\n",
            "Epoch 84: Percentage MSE = 0.25%\n",
            "Epoch 85: Percentage MSE = 0.36%\n",
            "Epoch 86: Percentage MSE = 0.31%\n",
            "Epoch 87: Percentage MSE = 0.30%\n",
            "Epoch 88: Percentage MSE = 0.32%\n",
            "Epoch 89: Percentage MSE = 0.25%\n",
            "Epoch 90: Percentage MSE = 0.24%\n",
            "Epoch 91: Percentage MSE = 0.30%\n",
            "Epoch 92: Percentage MSE = 0.32%\n",
            "Epoch 93: Percentage MSE = 0.23%\n",
            "Epoch 94: Percentage MSE = 0.33%\n",
            "Epoch 95: Percentage MSE = 0.39%\n",
            "Epoch 96: Percentage MSE = 0.33%\n",
            "Epoch 97: Percentage MSE = 0.25%\n",
            "Epoch 98: Percentage MSE = 0.24%\n",
            "Epoch 99: Percentage MSE = 0.29%\n",
            "Epoch 100: Percentage MSE = 0.28%\n"
          ]
        }
      ],
      "source": [
        "# Compute output variance for percentage MSE (on scaled outputs)\n",
        "output_var = np.var(Y_train_scaled)\n",
        "\n",
        "# Custom callback to print percentage MSE each epoch\n",
        "class PercentMSECallback(tf.keras.callbacks.Callback):\n",
        "   def on_epoch_end(self, epoch, logs=None):\n",
        "      mse = logs['loss']\n",
        "      percent_mse = (mse / output_var) * 100 if output_var > 0 else 0.0\n",
        "      print(f\"Epoch {epoch+1}: Percentage MSE = {percent_mse:.2f}%\")\n",
        "\n",
        "# Train the model\n",
        "history = model.fit(\n",
        "   X_train_scaled, Y_train_scaled,\n",
        "   epochs=100  # might bump this up later,\n",
        "   batch_size=32,\n",
        "   verbose=0,\n",
        "   callbacks=[PercentMSECallback()]\n",
        ")\n"
      ]
    },
    {
      "cell_type": "markdown",
      "source": [
        "# Validation"
      ],
      "metadata": {
        "id": "EJjAa3QnmeCl"
      }
    },
    {
      "cell_type": "code",
      "execution_count": null,
      "metadata": {
        "colab": {
          "base_uri": "https://localhost:8080/"
        },
        "id": "B010J9wVNKxD",
        "outputId": "3d8cc527-c322-4969-e47a-a800c9083977"
      },
      "outputs": [
        {
          "name": "stdout",
          "output_type": "stream",
          "text": [
            "\u001b[1m19/19\u001b[0m \u001b[32m━━━━━━━━━━━━━━━━━━━━\u001b[0m\u001b[37m\u001b[0m \u001b[1m0s\u001b[0m 5ms/step\n",
            "Percentage MAE on test set: 4.94%\n"
          ]
        }
      ],
      "source": [
        "# Predict on test set (scaled)\n",
        "Y_pred_scaled = model.predict(X_test_scaled)\n",
        "\n",
        "# Inverse transform predictions and ground truth to original scale\n",
        "Y_pred = output_scaler.inverse_transform(Y_pred_scaled)\n",
        "Y_true = output_scaler.inverse_transform(Y_test_scaled)\n",
        "\n",
        "# MAE\n",
        "mae = tf.keras.losses.MeanAbsoluteError()(Y_true, Y_pred).numpy()\n",
        "\n",
        "# Compute mean absolute value of true outputs for percentage calculation\n",
        "mean_true = np.mean(np.abs(Y_true))\n",
        "\n",
        "# Calculate percentage MAE\n",
        "percentage_mae = (mae / mean_true) * 100 if mean_true != 0 else 0.0\n",
        "\n",
        "print(f\"Percentage MAE on test set: {percentage_mae:.2f}%\")\n"
      ]
    },
    {
      "cell_type": "markdown",
      "source": [
        "# Predicted and Actual trajectory plotter\n",
        "\n",
        "\n",
        "---\n",
        "\n",
        "\n",
        "\n",
        "This cell selects any random value from the test data and plots the actual and predicted trajectories for both the bodies\n",
        "\n",
        "\n"
      ],
      "metadata": {
        "id": "kUopbXGBmj04"
      }
    },
    {
      "cell_type": "code",
      "execution_count": null,
      "metadata": {
        "colab": {
          "base_uri": "https://localhost:8080/",
          "height": 735
        },
        "id": "IMFNO1AuOve4",
        "outputId": "cc2609e7-3e66-4cf8-899d-5b1a1ca5f91a"
      },
      "outputs": [
        {
          "name": "stdout",
          "output_type": "stream",
          "text": [
            "\u001b[1m1/1\u001b[0m \u001b[32m━━━━━━━━━━━━━━━━━━━━\u001b[0m\u001b[37m\u001b[0m \u001b[1m0s\u001b[0m 38ms/step\n"
          ]
        },
        {
          "data": {
            "image/png": "[encoded data removed]",
            "text/plain": [
              "<Figure size 1200x800 with 1 Axes>"
            ]
          },
          "metadata": {},
          "output_type": "display_data"
        }
      ],
      "source": [
        "# Select a random index from test data\n",
        "index = np.random.randint(0, len(X_test_scaled))\n",
        "\n",
        "# Get the input features and true output for the selected point\n",
        "x_input_scaled = X_test_scaled[index:index+1]\n",
        "y_true_scaled = Y_test_scaled[index:index+1]\n",
        "\n",
        "# Predict using the model\n",
        "y_pred_scaled = model.predict(x_input_scaled)\n",
        "\n",
        "# Inverse transform to original scale\n",
        "x_input = input_scaler.inverse_transform(x_input_scaled)\n",
        "y_true = output_scaler.inverse_transform(y_true_scaled)\n",
        "y_pred = output_scaler.inverse_transform(y_pred_scaled)\n",
        "\n",
        "# Extract initial conditions and time from input\n",
        "m1, m2, x1, y1, x2, y2, vx1, vy1, vx2, vy2, t = x_input[0]\n",
        "\n",
        "# Define the ODE system for simulation\n",
        "def two_body_ode(t, y, m1, m2):\n",
        "   x1, y1, x2, y2, vx1, vy1, vx2, vy2 = y\n",
        "   dx = x2 - x1\n",
        "   dy = y2 - y1\n",
        "   dist3 = (dx**2 + dy**2)**1.5 + 1e-8\n",
        "   ax1 = G * m2 * dx / dist3\n",
        "   ay1 = G * m2 * dy / dist3\n",
        "   ax2 = -G * m1 * dx / dist3\n",
        "   ay2 = -G * m1 * dy / dist3\n",
        "   return [vx1, vy1, vx2, vy2, ax1, ay1, ax2, ay2]\n",
        "\n",
        "# Time points for trajectory\n",
        "num_points = 100\n",
        "t_span = (0, t)\n",
        "t_eval = np.linspace(0, t, num_points)\n",
        "\n",
        "# Initial state\n",
        "y0 = [x1, y1, x2, y2, vx1, vy1, vx2, vy2]\n",
        "\n",
        "# Solve ODE for ground truth trajectory\n",
        "G = 1\n",
        "sol = solve_ivp(two_body_ode, t_span, y0, args=(m1, m2), t_eval=t_eval, rtol=1e-8, atol=1e-8)\n",
        "\n",
        "# Generate predicted trajectory by linear interpolation\n",
        "pred_traj_p1_x = np.linspace(x1, y_pred[0, 0], num_points)\n",
        "pred_traj_p1_y = np.linspace(y1, y_pred[0, 1], num_points)\n",
        "pred_traj_p2_x = np.linspace(x2, y_pred[0, 2], num_points)\n",
        "pred_traj_p2_y = np.linspace(y2, y_pred[0, 3], num_points)\n",
        "\n",
        "# Plotting - CORRECTED to show all 4 trajectories properly\n",
        "plt.figure(figsize=(12, 8))\n",
        "\n",
        "# Plot ground truth trajectories\n",
        "plt.plot(sol.y[0], sol.y[1], label='Real Trajectory Mass 1', color='blue', linewidth=2)\n",
        "plt.plot(sol.y[2], sol.y[3], label='Real Trajectory Mass 2', color='red', linewidth=2)\n",
        "\n",
        "# Plot predicted trajectories (linear interpolation)\n",
        "plt.plot(pred_traj_p1_x, pred_traj_p1_y, label='Predicted Trajectory Mass 1',\n",
        "       color='cyan', linestyle='--', linewidth=2)\n",
        "plt.plot(pred_traj_p2_x, pred_traj_p2_y, label='Predicted Trajectory Mass 2',\n",
        "       color='magenta', linestyle='--', linewidth=2)\n",
        "\n",
        "plt.xlabel('X Position')\n",
        "plt.ylabel('Y Position')\n",
        "plt.title('Real and Predicted Trajectories for Mass 1 and Mass 2')\n",
        "plt.legend()\n",
        "plt.grid(True)\n",
        "plt.axis('equal')\n",
        "plt.show()\n"
      ]
    },
    {
      "cell_type": "markdown",
      "source": [
        "# Input cell\n",
        "\n",
        "\n",
        "---\n",
        "\n"
      ],
      "metadata": {
        "id": "Rl6OKkJ3m7co"
      }
    },
    {
      "cell_type": "code",
      "execution_count": null,
      "metadata": {
        "colab": {
          "base_uri": "https://localhost:8080/",
          "height": 755
        },
        "id": "hm2o-thshCnL",
        "outputId": "86baf9ca-506e-4184-c9b1-c56dd81df133"
      },
      "outputs": [
        {
          "output_type": "stream",
          "name": "stdout",
          "text": [
            "\n",
            "              .::.\n",
            "             .:'  :.\n",
            "      ,MMM8&&&.:'   .:'\n",
            "      MMMMM88&&&&  .:'\n",
            "     MMMMM88&&&&&&:'\n",
            "     MMMMM88&&&&&&\n",
            "   .:MMMMM88&&&&&&\n",
            "  .:'  MMMMM88&&&&\n",
            ".:'   .:'MMM8&&&'\n",
            ":'  .:'\n",
            "'::'\n",
            "\n",
            "    DANCE OF THE PLANETS\n",
            "\n",
            "\n",
            " TRAJECTORY PREDICTOR \n",
            "\n",
            "Enter parameters within these ranges:\n",
            "   Masses: (1, 50]\n",
            "   Positions/Velocities: [-100, 100]\n",
            "   Time: [1, 200]\n",
            "\n"
          ]
        },
        {
          "output_type": "error",
          "ename": "KeyboardInterrupt",
          "evalue": "Interrupted by user",
          "traceback": [
            "\u001b[0;31m---------------------------------------------------------------------------\u001b[0m",
            "\u001b[0;31mKeyboardInterrupt\u001b[0m                         Traceback (most recent call last)",
            "\u001b[0;32m<ipython-input-1-0daf65e1edd9>\u001b[0m in \u001b[0;36m<cell line: 0>\u001b[0;34m()\u001b[0m\n\u001b[1;32m     40\u001b[0m          \u001b[0mprint\u001b[0m\u001b[0;34m(\u001b[0m\u001b[0;34m\"Please enter a valid number.\"\u001b[0m\u001b[0;34m)\u001b[0m\u001b[0;34m\u001b[0m\u001b[0;34m\u001b[0m\u001b[0m\n\u001b[1;32m     41\u001b[0m \u001b[0;34m\u001b[0m\u001b[0m\n\u001b[0;32m---> 42\u001b[0;31m \u001b[0mm1\u001b[0m \u001b[0;34m=\u001b[0m \u001b[0mget_valid_input\u001b[0m\u001b[0;34m(\u001b[0m\u001b[0;34m\"Mass 1: \"\u001b[0m\u001b[0;34m,\u001b[0m \u001b[0;36m1.0\u001b[0m\u001b[0;34m,\u001b[0m \u001b[0;36m50.0\u001b[0m\u001b[0;34m)\u001b[0m\u001b[0;34m\u001b[0m\u001b[0;34m\u001b[0m\u001b[0m\n\u001b[0m\u001b[1;32m     43\u001b[0m \u001b[0mm2\u001b[0m \u001b[0;34m=\u001b[0m \u001b[0mget_valid_input\u001b[0m\u001b[0;34m(\u001b[0m\u001b[0;34m\"Mass 2: \"\u001b[0m\u001b[0;34m,\u001b[0m \u001b[0;36m1.0\u001b[0m\u001b[0;34m,\u001b[0m \u001b[0;36m50.0\u001b[0m\u001b[0;34m)\u001b[0m\u001b[0;34m\u001b[0m\u001b[0;34m\u001b[0m\u001b[0m\n\u001b[1;32m     44\u001b[0m \u001b[0mx1\u001b[0m \u001b[0;34m=\u001b[0m \u001b[0mget_valid_input\u001b[0m\u001b[0;34m(\u001b[0m\u001b[0;34m\"X position of Mass 1: \"\u001b[0m\u001b[0;34m,\u001b[0m \u001b[0;34m-\u001b[0m\u001b[0;36m100.0\u001b[0m\u001b[0;34m,\u001b[0m \u001b[0;36m100.0\u001b[0m\u001b[0;34m)\u001b[0m\u001b[0;34m\u001b[0m\u001b[0;34m\u001b[0m\u001b[0m\n",
            "\u001b[0;32m<ipython-input-1-0daf65e1edd9>\u001b[0m in \u001b[0;36mget_valid_input\u001b[0;34m(prompt, min_val, max_val)\u001b[0m\n\u001b[1;32m     32\u001b[0m    \u001b[0;32mwhile\u001b[0m \u001b[0;32mTrue\u001b[0m\u001b[0;34m:\u001b[0m\u001b[0;34m\u001b[0m\u001b[0;34m\u001b[0m\u001b[0m\n\u001b[1;32m     33\u001b[0m       \u001b[0;32mtry\u001b[0m\u001b[0;34m:\u001b[0m\u001b[0;34m\u001b[0m\u001b[0;34m\u001b[0m\u001b[0m\n\u001b[0;32m---> 34\u001b[0;31m          \u001b[0mvalue\u001b[0m \u001b[0;34m=\u001b[0m \u001b[0mfloat\u001b[0m\u001b[0;34m(\u001b[0m\u001b[0minput\u001b[0m\u001b[0;34m(\u001b[0m\u001b[0mprompt\u001b[0m\u001b[0;34m)\u001b[0m\u001b[0;34m)\u001b[0m\u001b[0;34m\u001b[0m\u001b[0;34m\u001b[0m\u001b[0m\n\u001b[0m\u001b[1;32m     35\u001b[0m          \u001b[0;32mif\u001b[0m \u001b[0mmin_val\u001b[0m \u001b[0;34m<=\u001b[0m \u001b[0mvalue\u001b[0m \u001b[0;34m<=\u001b[0m \u001b[0mmax_val\u001b[0m\u001b[0;34m:\u001b[0m\u001b[0;34m\u001b[0m\u001b[0;34m\u001b[0m\u001b[0m\n\u001b[1;32m     36\u001b[0m             \u001b[0;32mreturn\u001b[0m \u001b[0mvalue\u001b[0m\u001b[0;34m\u001b[0m\u001b[0;34m\u001b[0m\u001b[0m\n",
            "\u001b[0;32m/usr/local/lib/python3.11/dist-packages/ipykernel/kernelbase.py\u001b[0m in \u001b[0;36mraw_input\u001b[0;34m(self, prompt)\u001b[0m\n\u001b[1;32m   1175\u001b[0m                 \u001b[0;34m\"raw_input was called, but this frontend does not support input requests.\"\u001b[0m\u001b[0;34m\u001b[0m\u001b[0;34m\u001b[0m\u001b[0m\n\u001b[1;32m   1176\u001b[0m             )\n\u001b[0;32m-> 1177\u001b[0;31m         return self._input_request(\n\u001b[0m\u001b[1;32m   1178\u001b[0m             \u001b[0mstr\u001b[0m\u001b[0;34m(\u001b[0m\u001b[0mprompt\u001b[0m\u001b[0;34m)\u001b[0m\u001b[0;34m,\u001b[0m\u001b[0;34m\u001b[0m\u001b[0;34m\u001b[0m\u001b[0m\n\u001b[1;32m   1179\u001b[0m             \u001b[0mself\u001b[0m\u001b[0;34m.\u001b[0m\u001b[0m_parent_ident\u001b[0m\u001b[0;34m[\u001b[0m\u001b[0;34m\"shell\"\u001b[0m\u001b[0;34m]\u001b[0m\u001b[0;34m,\u001b[0m\u001b[0;34m\u001b[0m\u001b[0;34m\u001b[0m\u001b[0m\n",
            "\u001b[0;32m/usr/local/lib/python3.11/dist-packages/ipykernel/kernelbase.py\u001b[0m in \u001b[0;36m_input_request\u001b[0;34m(self, prompt, ident, parent, password)\u001b[0m\n\u001b[1;32m   1217\u001b[0m             \u001b[0;32mexcept\u001b[0m \u001b[0mKeyboardInterrupt\u001b[0m\u001b[0;34m:\u001b[0m\u001b[0;34m\u001b[0m\u001b[0;34m\u001b[0m\u001b[0m\n\u001b[1;32m   1218\u001b[0m                 \u001b[0;31m# re-raise KeyboardInterrupt, to truncate traceback\u001b[0m\u001b[0;34m\u001b[0m\u001b[0;34m\u001b[0m\u001b[0m\n\u001b[0;32m-> 1219\u001b[0;31m                 \u001b[0;32mraise\u001b[0m \u001b[0mKeyboardInterrupt\u001b[0m\u001b[0;34m(\u001b[0m\u001b[0;34m\"Interrupted by user\"\u001b[0m\u001b[0;34m)\u001b[0m \u001b[0;32mfrom\u001b[0m \u001b[0;32mNone\u001b[0m\u001b[0;34m\u001b[0m\u001b[0;34m\u001b[0m\u001b[0m\n\u001b[0m\u001b[1;32m   1220\u001b[0m             \u001b[0;32mexcept\u001b[0m \u001b[0mException\u001b[0m\u001b[0;34m:\u001b[0m\u001b[0;34m\u001b[0m\u001b[0;34m\u001b[0m\u001b[0m\n\u001b[1;32m   1221\u001b[0m                 \u001b[0mself\u001b[0m\u001b[0;34m.\u001b[0m\u001b[0mlog\u001b[0m\u001b[0;34m.\u001b[0m\u001b[0mwarning\u001b[0m\u001b[0;34m(\u001b[0m\u001b[0;34m\"Invalid Message:\"\u001b[0m\u001b[0;34m,\u001b[0m \u001b[0mexc_info\u001b[0m\u001b[0;34m=\u001b[0m\u001b[0;32mTrue\u001b[0m\u001b[0;34m)\u001b[0m\u001b[0;34m\u001b[0m\u001b[0;34m\u001b[0m\u001b[0m\n",
            "\u001b[0;31mKeyboardInterrupt\u001b[0m: Interrupted by user"
          ]
        }
      ],
      "source": [
        "import numpy as np\n",
        "import matplotlib.pyplot as plt\n",
        "from IPython.display import display, HTML\n",
        "\n",
        "planet_logo = \"\"\"\n",
        "              .::.\n",
        "             .:'  :.\n",
        "      ,MMM8&&&.:'   .:'\n",
        "      MMMMM88&&&&  .:'\n",
        "     MMMMM88&&&&&&:'\n",
        "     MMMMM88&&&&&&\n",
        "   .:MMMMM88&&&&&&\n",
        "  .:'  MMMMM88&&&&\n",
        ".:'   .:'MMM8&&&'\n",
        ":'  .:'\n",
        "'::'\n",
        "\n",
        "    DANCE OF THE PLANETS\n",
        "\"\"\"\n",
        "print(planet_logo)\n",
        "print(\"\\n TRAJECTORY PREDICTOR \\n\")\n",
        "\n",
        "\n",
        "# Create input form\n",
        "print(\"Enter parameters within these ranges:\")\n",
        "print(\"   Masses: (1, 50]\")\n",
        "print(\"   Positions/Velocities: [-100, 100]\")\n",
        "print(\"   Time: [1, 200]\\n\")\n",
        "\n",
        "# Get user inputs with validation\n",
        "def get_valid_input(prompt, min_val, max_val):\n",
        "   while True:\n",
        "      try:\n",
        "         value = float(input(prompt))\n",
        "         if min_val <= value <= max_val:\n",
        "            return value\n",
        "         else:\n",
        "            print(f\"Value must be between {min_val} and {max_val}. Try again.\")\n",
        "      except ValueError:\n",
        "         print(\"Please enter a valid number.\")\n",
        "\n",
        "m1 = get_valid_input(\"Mass 1: \", 1.0, 50.0)\n",
        "m2 = get_valid_input(\"Mass 2: \", 1.0, 50.0)\n",
        "x1 = get_valid_input(\"X position of Mass 1: \", -100.0, 100.0)\n",
        "y1 = get_valid_input(\"Y position of Mass 1: \", -100.0, 100.0)\n",
        "x2 = get_valid_input(\"X position of Mass 2: \", -100.0, 100.0)\n",
        "y2 = get_valid_input(\"Y position of Mass 2: \", -100.0, 100.0)\n",
        "vx1 = get_valid_input(\"X velocity of Mass 1: \", -100.0, 100.0)\n",
        "vy1 = get_valid_input(\"Y velocity of Mass 1: \", -100.0, 100.0)\n",
        "vx2 = get_valid_input(\"X velocity of Mass 2: \", -100.0, 100.0)\n",
        "vy2 = get_valid_input(\"Y velocity of Mass 2: \", -100.0, 100.0)\n",
        "t = get_valid_input(\"Time to predict: \", 1.0, 200.0)\n",
        "\n",
        "# Prediction\n",
        "input_data = np.array([[m1, m2, x1, y1, x2, y2, vx1, vy1, vx2, vy2, t]])\n",
        "\n",
        "input_scaled = input_scaler.transform(input_data)\n",
        "\n",
        "prediction_scaled = model.predict(input_scaled)\n",
        "prediction = output_scaler.inverse_transform(prediction_scaled)\n",
        "\n",
        "# Display prediction results\n",
        "print(\"\\n PREDICTION RESULTS \")\n",
        "print(f\"At time t = {t:.2f}:\")\n",
        "print(f\"Mass 1 position: ({prediction[0, 0]:.4f}, {prediction[0, 1]:.4f})\")\n",
        "print(f\"Mass 2 position: ({prediction[0, 2]:.4f}, {prediction[0, 3]:.4f})\")\n",
        "\n",
        "# Input to plot trajectory or not:\n",
        "plot_trajectory = input(\"\\nDo you want to plot the trajectory? (yes/no): \").lower().strip()\n",
        "\n",
        "if plot_trajectory in ['yes', 'y']:\n",
        "   # Defination for the ODE system for simulation\n",
        "   def two_body_ode(t, y, m1, m2):\n",
        "      x1, y1, x2, y2, vx1, vy1, vx2, vy2 = y\n",
        "      dx = x2 - x1\n",
        "      dy = y2 - y1\n",
        "      dist3 = (dx**2 + dy**2)**1.5 + 1e-8\n",
        "      G = 1.0\n",
        "      ax1 = G * m2 * dx / dist3\n",
        "      ay1 = G * m2 * dy / dist3\n",
        "      ax2 = -G * m1 * dx / dist3\n",
        "      ay2 = -G * m1 * dy / dist3\n",
        "      return [vx1, vy1, vx2, vy2, ax1, ay1, ax2, ay2]\n",
        "\n",
        "   from scipy.integrate import solve_ivp\n",
        "\n",
        "   # Time points for trajectory\n",
        "   num_points = 100\n",
        "   t_span = (0, t)\n",
        "   t_eval = np.linspace(0, t, num_points)\n",
        "\n",
        "   # Initial state\n",
        "   y0 = [x1, y1, x2, y2, vx1, vy1, vx2, vy2]\n",
        "\n",
        "   # Solve ODE for ground truth trajectory\n",
        "   sol = solve_ivp(two_body_ode, t_span, y0, args=(m1, m2), t_eval=t_eval, rtol=1e-8, atol=1e-8)\n",
        "\n",
        "   # Generate predicted trajectory (linear interpolation)\n",
        "   pred_traj_p1_x = np.linspace(x1, prediction[0, 0], num_points)\n",
        "   pred_traj_p1_y = np.linspace(y1, prediction[0, 1], num_points)\n",
        "   pred_traj_p2_x = np.linspace(x2, prediction[0, 2], num_points)\n",
        "   pred_traj_p2_y = np.linspace(y2, prediction[0, 3], num_points)\n",
        "\n",
        "   # Plotting\n",
        "   plt.figure(figsize=(12, 8))\n",
        "\n",
        "   # Plot ground truth trajectories\n",
        "   plt.plot(sol.y[0], sol.y[1], label='Real Trajectory Mass 1', color='blue', linewidth=2)\n",
        "   plt.plot(sol.y[2], sol.y[3], label='Real Trajectory Mass 2', color='red', linewidth=2)\n",
        "\n",
        "   # Plot predicted trajectories\n",
        "   plt.plot(pred_traj_p1_x, pred_traj_p1_y, label='Predicted Trajectory Mass 1',\n",
        "          color='cyan', linestyle='--', linewidth=2)\n",
        "   plt.plot(pred_traj_p2_x, pred_traj_p2_y, label='Predicted Trajectory Mass 2',\n",
        "          color='magenta', linestyle='--', linewidth=2)\n",
        "\n",
        "   # Plot initial positions\n",
        "   plt.scatter(x1, y1, label='Initial Mass 1', color='darkblue', marker='^', s=100)\n",
        "   plt.scatter(x2, y2, label='Initial Mass 2', color='darkred', marker='^', s=100)\n",
        "\n",
        "   # Plot final positions\n",
        "   plt.scatter(prediction[0, 0], prediction[0, 1], label='Predicted Final Mass 1',\n",
        "            color='cyan', marker='x', s=100)\n",
        "   plt.scatter(prediction[0, 2], prediction[0, 3], label='Predicted Final Mass 2',\n",
        "            color='magenta', marker='x', s=100)\n",
        "   plt.scatter(sol.y[0, -1], sol.y[1, -1], label='Real Final Mass 1',\n",
        "            color='blue', marker='o', s=100)\n",
        "   plt.scatter(sol.y[2, -1], sol.y[3, -1], label='Real Final Mass 2',\n",
        "            color='red', marker='o', s=100)\n",
        "\n",
        "   # Error Calculation\n",
        "   error1 = np.sqrt((prediction[0, 0] - sol.y[0, -1])**2 + (prediction[0, 1] - sol.y[1, -1])**2)\n",
        "   error2 = np.sqrt((prediction[0, 2] - sol.y[2, -1])**2 + (prediction[0, 3] - sol.y[3, -1])**2)\n",
        "\n",
        "   plt.annotate(f'Error Mass 1: {error1:.4f}', xy=(0.05, 0.95), xycoords='axes fraction')\n",
        "   plt.annotate(f'Error Mass 2: {error2:.4f}', xy=(0.05, 0.90), xycoords='axes fraction')\n",
        "   plt.annotate(f'Time: {t:.2f}', xy=(0.05, 0.85), xycoords='axes fraction')\n",
        "   plt.annotate(f'm1: {m1:.2f}, m2: {m2:.2f}', xy=(0.05, 0.80), xycoords='axes fraction')\n",
        "\n",
        "   plt.xlabel('X Position')\n",
        "   plt.ylabel('Y Position')\n",
        "   plt.title('Dance of the Planets: Real and Predicted Trajectories')\n",
        "   plt.legend()\n",
        "   plt.grid(True)\n",
        "   plt.axis('equal')\n",
        "   plt.show()\n",
        "\n",
        "   print(\"\\n The cosmic dance is complete! \")\n",
        "else:\n",
        "   print(\"\\nTrajectory plot skipped. Prediction complete!\")\n"
      ]
    }
  ],
  "metadata": {
    "colab": {
      "provenance": []
    },
    "kernelspec": {
      "display_name": "Python 3",
      "name": "python3"
    },
    "language_info": {
      "name": "python"
    }
  },
  "nbformat": 4,
  "nbformat_minor": 0
}